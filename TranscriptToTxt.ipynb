{
 "metadata": {
  "language_info": {
   "codemirror_mode": {
    "name": "ipython",
    "version": 3
   },
   "file_extension": ".py",
   "mimetype": "text/x-python",
   "name": "python",
   "nbconvert_exporter": "python",
   "pygments_lexer": "ipython3",
   "version": "3.7.7-final"
  },
  "orig_nbformat": 2,
  "kernelspec": {
   "name": "python_defaultSpec_1595896530464",
   "display_name": "Python 3.7.7 64-bit ('hackathon': conda)"
  }
 },
 "nbformat": 4,
 "nbformat_minor": 2,
 "cells": [
  {
   "cell_type": "code",
   "execution_count": 1,
   "metadata": {},
   "outputs": [],
   "source": [
    "import os\n",
    "os.chdir('/Users/jeffreymew/New Documents/TeamsSummarizer')"
   ]
  },
  {
   "cell_type": "code",
   "execution_count": 7,
   "metadata": {},
   "outputs": [],
   "source": [
    "class Message:\n",
    "    def __init__(self, user, message):\n",
    "        self.user = user\n",
    "        self.message = message\n",
    "    \n",
    "    def append(self, message):\n",
    "        self.message = self.message + \" \" + message\n",
    "\n",
    "class Transcript:\n",
    "    def __init__(self):\n",
    "        self.conversation = []\n",
    "\n",
    "    def addMessage(self, user, message):\n",
    "        if len(self.conversation) > 0 and self.conversation[-1].user == user:\n",
    "            prevMessage = self.conversation[-1]\n",
    "            prevMessage.append(message)\n",
    "        else:\n",
    "            newMessage = Message(user, message)\n",
    "            self.conversation.append(newMessage)\n",
    "\n",
    "    def exportAsTxt(self):\n",
    "        with open(\"output.txt\", \"w\") as txt_file:\n",
    "            for msg in self.conversation:\n",
    "                txt_file.write(\"\".join(msg.message) + \" \")\n",
    "            \n",
    "    def toString(self):\n",
    "        output = \"\"\n",
    "        for msg in self.conversation:\n",
    "            output += \"\".join(msg.message) + \"\\n\"\n",
    "        return output"
   ]
  },
  {
   "cell_type": "code",
   "execution_count": 8,
   "metadata": {
    "tags": []
   },
   "outputs": [],
   "source": [
    "transcript = Transcript()\n",
    "\n",
    "with open('transcript1.vtt', 'rb') as subtitles:\n",
    "    for count, line in enumerate(subtitles, start=0):\n",
    "        if count % 3 == 0:\n",
    "            line = str(line)\n",
    "            if line.find('<') == -1:\n",
    "                continue\n",
    "            \n",
    "            user = line[line.find('<') + 1 : line.find('>')]\n",
    "            msg = line[line.find('>') + 1 : -9]\n",
    "            transcript.addMessage(user, msg)"
   ]
  },
  {
   "cell_type": "code",
   "execution_count": 55,
   "metadata": {},
   "outputs": [],
   "source": [
    "# For debug purposes\n",
    "transcript.exportAsTxt()"
   ]
  },
  {
   "cell_type": "markdown",
   "metadata": {},
   "source": [
    "# Version 1 SUMMARY API"
   ]
  },
  {
   "cell_type": "code",
   "execution_count": 49,
   "metadata": {
    "tags": []
   },
   "outputs": [],
   "source": [
    "# Only can ping this API 100 times a day so please dont excessively ping this\n",
    "import requests\n",
    "\n",
    "header_params = {\"Expect\":\"100-continue\"}\n",
    "API_KEY = \"F12AE320EF\"\n",
    "API_ENDPOINT = \"https://api.smmry.com\"\n",
    "\n",
    "data = {\n",
    "    \"sm_api_input\":transcript.toString()\n",
    "}\n",
    "params = {\n",
    "    \"SM_API_KEY\":API_KEY,\n",
    "    \"SM_LENGTH\": 4\n",
    "}\n",
    "\n",
    "r = requests.post(url=API_ENDPOINT, params=params, data=data, headers=header_params)"
   ]
  },
  {
   "cell_type": "code",
   "execution_count": 54,
   "metadata": {
    "tags": []
   },
   "outputs": [
    {
     "output_type": "stream",
     "name": "stdout",
     "text": "Your meeting has been summarized:\nYeah, OK. Yeah, the transcriber has started, Yeah, but only you can see it. Oh yeah, yeah yeah no, I just want to like like have more data for it to like. Yeah, yeah interpret terms of like yeah, that's true. So like just ignore that part parts right? Are you testing? Yeah, I yeah I agree.\n"
    }
   ],
   "source": [
    "summarizedText = r.json()['sm_api_content']\n",
    "print(\"Your meeting has been summarized:\")\n",
    "print(summarizedText)"
   ]
  },
  {
   "cell_type": "markdown",
   "metadata": {},
   "source": [
    "# Version 2 BERT MODEL"
   ]
  },
  {
   "cell_type": "code",
   "execution_count": 4,
   "metadata": {
    "tags": []
   },
   "outputs": [],
   "source": [
    "from summarizer import Summarizer\n",
    "model = Summarizer()"
   ]
  },
  {
   "cell_type": "code",
   "execution_count": 10,
   "metadata": {
    "tags": []
   },
   "outputs": [
    {
     "output_type": "stream",
     "name": "stdout",
     "text": "Oh, I mean like we are summary like like a I wanted to just get progress report I guess like status if everyone knows what they're working. So yeah, so I'll talk quickly about that. This is me like a remembering should I saw on Twitter with what GPT is doing of like being able to take someone style of writing and then. Can we get the email body and even the nodes that we summarized in the tone of the person that originally started in the meeting was another thing that came out of the interviews. And I'm using like OneNote or even something like SharePoint as an active log of all of the things that happened from meeting to meeting, especially in the case of referring meetings, and so they thought that it would be nice if something just automatically created a new page so long as it knows where to create that right, and then relates that to this recurring meeting that I'm not. Yeah, so I. I feel like yeah, it's definitely not a good tool, but it's something like they brought up. And then there's like after conversation, but it's like I don't think any of it is like you have like physically invoke. I don't think they value the demo that hard. Yeah, I was just going to put this before the meeting but yeah. And then I'll just tally all of the ones that I validated and invalidated, and we can use those as like a way to frame who the customer is and what their problems are. Yeah, yeah, like I mean like what we can do is just integrate everyone's components, right?\n"
    }
   ],
   "source": [
    "result = model(transcript.toString(), ratio=0.02, min_length=40)\n",
    "full = ''.join(result)\n",
    "print(full)"
   ]
  },
  {
   "cell_type": "code",
   "execution_count": null,
   "metadata": {},
   "outputs": [],
   "source": [
    "# Bot Password\n",
    "#K~eg62Mcdj9q1A.X1o4hQ8J7rJ56r..lk7"
   ]
  }
 ]
}